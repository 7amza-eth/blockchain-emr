{
 "cells": [
  {
   "cell_type": "markdown",
   "id": "890b11c1-c62f-48cb-986b-64851aa981af",
   "metadata": {},
   "source": [
    "# Pinata API"
   ]
  },
  {
   "cell_type": "markdown",
   "id": "440927a1-718f-49ab-96a1-81fb94e17e19",
   "metadata": {},
   "source": [
    "## Configure API"
   ]
  },
  {
   "cell_type": "code",
   "execution_count": null,
   "id": "875e27a4-5aef-41bc-b5f1-c48f655a57d0",
   "metadata": {},
   "outputs": [],
   "source": [
    "import requests\n",
    "\n",
    "PINATA_JWT = 'eyJhbGciOiJIUzI1NiIsInR5cCI6IkpXVCJ9.eyJ1c2VySW5mb3JtYXRpb24iOnsiaWQiOiJhZTBkZGQ0Zi05MTE1LTQyMmQtYTlmYS1lMmE1ZTA0YzYwYTYiLCJlbWFpbCI6InBlc2FudGV6LnNhbnRpYWdvLmlAZ21haWwuY29tIiwiZW1haWxfdmVyaWZpZWQiOnRydWUsInBpbl9wb2xpY3kiOnsicmVnaW9ucyI6W3siaWQiOiJGUkExIiwiZGVzaXJlZFJlcGxpY2F0aW9uQ291bnQiOjF9LHsiaWQiOiJOWUMxIiwiZGVzaXJlZFJlcGxpY2F0aW9uQ291bnQiOjF9XSwidmVyc2lvbiI6MX0sIm1mYV9lbmFibGVkIjpmYWxzZSwic3RhdHVzIjoiQUNUSVZFIn0sImF1dGhlbnRpY2F0aW9uVHlwZSI6InNjb3BlZEtleSIsInNjb3BlZEtleUtleSI6IjJjODA4MDdjOGIwNDg4NDhhMzU0Iiwic2NvcGVkS2V5U2VjcmV0IjoiMmU1YmYyNmE1N2YxNTI3YmYzZDVhMTllNTZmNGQ0MjIzMjFiZmRlYmYyOTA1ODc1YjYyOTNiMDg2NjVkOTFmOSIsImlhdCI6MTY2MzIwMTcyNn0.j8wenqclDhQSN-nNkUyEwb7HWF6E6BjbiEqRpxm3W_I'\n",
    "\n",
    "url = \"https://api.pinata.cloud/\"\n",
    "\n",
    "headers = { 'Authorization': 'Bearer ' + PINATA_JWT}\n"
   ]
  },
  {
   "cell_type": "markdown",
   "id": "9b54bcef-e9ff-4bee-bbbe-9ded59bd3596",
   "metadata": {},
   "source": [
    "## Test Connection"
   ]
  },
  {
   "cell_type": "code",
   "execution_count": null,
   "id": "a2f08070-3a9a-4f7f-8b06-ff9190c60fa6",
   "metadata": {},
   "outputs": [
    {
     "name": "stdout",
     "output_type": "stream",
     "text": [
      "{\"message\":\"Congratulations! You are communicating with the Pinata API!\"}\n"
     ]
    }
   ],
   "source": [
    "end_point = 'data/testAuthentication'\n",
    "\n",
    "payload = {} \n",
    "\n",
    "\n",
    "response = requests.request(\"GET\", url + end_point, headers = headers, data = payload)\n",
    "\n",
    "print(response.text)"
   ]
  },
  {
   "cell_type": "markdown",
   "id": "605ab871-2fa3-4473-a833-321e360e918f",
   "metadata": {},
   "source": [
    "## List files"
   ]
  },
  {
   "cell_type": "code",
   "execution_count": null,
   "id": "46b88ed2-1ff9-4831-837f-4f512c4d81ce",
   "metadata": {},
   "outputs": [
    {
     "name": "stdout",
     "output_type": "stream",
     "text": [
      "{\"count\":3,\"rows\":[{\"id\":\"70963627-9809-454b-994a-3a00e9503d11\",\"ipfs_pin_hash\":\"bafkreicjmxc2drbgxtoidx6xfatbffyx46oiyo6ktipss6dhdermwtsoze\",\"size\":23,\"user_id\":\"ae0ddd4f-9115-422d-a9fa-e2a5e04c60a6\",\"date_pinned\":\"2022-09-15T04:35:47.847Z\",\"date_unpinned\":null,\"metadata\":{\"name\":\"Name\",\"keyvalues\":{\"gender\":\"male\",\"height\":\"5ft 6in\",\"weight\":\"150lbs\",\"pation_name\":\"santiago pesantez\",\"date_of_birth\":\"1985-09-16\"}},\"regions\":[{\"regionId\":\"FRA1\",\"currentReplicationCount\":1,\"desiredReplicationCount\":1},{\"regionId\":\"NYC1\",\"currentReplicationCount\":1,\"desiredReplicationCount\":1}]},{\"id\":\"7b348eec-bb94-4503-8c82-d6b4bd09f1b2\",\"ipfs_pin_hash\":\"bafkreigaknpexyvxt76zgkitavbwx6ejgfheup5oybpm77f3pxzrvwpfdi\",\"size\":12,\"user_id\":\"ae0ddd4f-9115-422d-a9fa-e2a5e04c60a6\",\"date_pinned\":\"2022-09-15T04:33:36.210Z\",\"date_unpinned\":null,\"metadata\":{\"name\":\"TestFile\",\"keyvalues\":{\"company\":\"EMRB\"}},\"regions\":[{\"regionId\":\"FRA1\",\"currentReplicationCount\":1,\"desiredReplicationCount\":1},{\"regionId\":\"NYC1\",\"currentReplicationCount\":1,\"desiredReplicationCount\":1}]},{\"id\":\"51e9849d-638b-4527-bb70-d4278495413a\",\"ipfs_pin_hash\":\"QmWeDLS9dNv7efDTL6XFMTcW2DkBQoHjqZMjCzEGqPgtYY\",\"size\":345725,\"user_id\":\"ae0ddd4f-9115-422d-a9fa-e2a5e04c60a6\",\"date_pinned\":\"2022-09-15T00:30:24.006Z\",\"date_unpinned\":null,\"metadata\":{\"name\":\"1.gif\",\"keyvalues\":null},\"regions\":[{\"regionId\":\"FRA1\",\"currentReplicationCount\":1,\"desiredReplicationCount\":1},{\"regionId\":\"NYC1\",\"currentReplicationCount\":1,\"desiredReplicationCount\":1}]}]}\n"
     ]
    }
   ],
   "source": [
    "end_point = 'data/pinList'\n",
    "\n",
    "payload={}\n",
    "\n",
    "response = requests.request('GET', url + end_point, headers = headers, data = payload)\n",
    "\n",
    "print(response.text)"
   ]
  },
  {
   "cell_type": "markdown",
   "id": "dfef66e7-d30e-43e6-b50c-dbcfe7cc13fa",
   "metadata": {},
   "source": [
    "## Upload File"
   ]
  },
  {
   "cell_type": "code",
   "execution_count": 28,
   "id": "fae0253b-ae23-428c-8118-cfcc2ad4d8d5",
   "metadata": {},
   "outputs": [
    {
     "name": "stdout",
     "output_type": "stream",
     "text": [
      "{\"IpfsHash\":\"bafkreigaknpexyvxt76zgkitavbwx6ejgfheup5oybpm77f3pxzrvwpfdi\",\"PinSize\":12,\"Timestamp\":\"2022-09-15T04:33:36.210Z\"}\n"
     ]
    }
   ],
   "source": [
    "end_point = 'pinning/pinFileToIPFS'\n",
    "\n",
    "payload={'pinataOptions': '{\"cidVersion\": 1}',\n",
    "'pinataMetadata': '{\"name\": \"TestFile\", \"keyvalues\": {\"company\": \"EMRB\"}}'}\n",
    "\n",
    "files=[\n",
    "  ('file',('test_file.txt',open('test_file.txt','rb'),'application/octet-stream'))\n",
    "]\n",
    "\n",
    "response = requests.request(\"POST\", url + end_point, headers=headers, data=payload, files=files)\n",
    "\n",
    "print(response.text)"
   ]
  },
  {
   "cell_type": "markdown",
   "id": "bbcb8560-9eb6-4194-bdf0-94f13f4d94e0",
   "metadata": {},
   "source": [
    "## Upload Json"
   ]
  },
  {
   "cell_type": "code",
   "execution_count": null,
   "id": "20ed5923-5420-4e4f-8fdd-9a706c290656",
   "metadata": {},
   "outputs": [
    {
     "ename": "ValueError",
     "evalue": "Data must not be a string.",
     "output_type": "error",
     "traceback": [
      "\u001b[1;31m---------------------------------------------------------------------------\u001b[0m",
      "\u001b[1;31mValueError\u001b[0m                                Traceback (most recent call last)",
      "Input \u001b[1;32mIn [9]\u001b[0m, in \u001b[0;36m<cell line: 30>\u001b[1;34m()\u001b[0m\n\u001b[0;32m     21\u001b[0m files\u001b[38;5;241m=\u001b[39m[\n\u001b[0;32m     22\u001b[0m   (\u001b[38;5;124m'\u001b[39m\u001b[38;5;124mfile\u001b[39m\u001b[38;5;124m'\u001b[39m,(\u001b[38;5;124m'\u001b[39m\u001b[38;5;124mtest_file.txt\u001b[39m\u001b[38;5;124m'\u001b[39m,\u001b[38;5;28mopen\u001b[39m(\u001b[38;5;124m'\u001b[39m\u001b[38;5;124mtest_file.txt\u001b[39m\u001b[38;5;124m'\u001b[39m,\u001b[38;5;124m'\u001b[39m\u001b[38;5;124mrb\u001b[39m\u001b[38;5;124m'\u001b[39m),\u001b[38;5;124m'\u001b[39m\u001b[38;5;124mapplication/octet-stream\u001b[39m\u001b[38;5;124m'\u001b[39m))\n\u001b[0;32m     23\u001b[0m ]\n\u001b[0;32m     25\u001b[0m headers \u001b[38;5;241m=\u001b[39m {\n\u001b[0;32m     26\u001b[0m   \u001b[38;5;124m'\u001b[39m\u001b[38;5;124mContent-Type\u001b[39m\u001b[38;5;124m'\u001b[39m: \u001b[38;5;124m'\u001b[39m\u001b[38;5;124mapplication/json\u001b[39m\u001b[38;5;124m'\u001b[39m,\n\u001b[0;32m     27\u001b[0m   \u001b[38;5;124m'\u001b[39m\u001b[38;5;124mAuthorization\u001b[39m\u001b[38;5;124m'\u001b[39m: \u001b[38;5;124m'\u001b[39m\u001b[38;5;124mBearer \u001b[39m\u001b[38;5;124m'\u001b[39m \u001b[38;5;241m+\u001b[39m PINATA_JWT\n\u001b[0;32m     28\u001b[0m }\n\u001b[1;32m---> 30\u001b[0m response \u001b[38;5;241m=\u001b[39m \u001b[43mrequests\u001b[49m\u001b[38;5;241;43m.\u001b[39;49m\u001b[43mrequest\u001b[49m\u001b[43m(\u001b[49m\u001b[38;5;124;43m\"\u001b[39;49m\u001b[38;5;124;43mPOST\u001b[39;49m\u001b[38;5;124;43m\"\u001b[39;49m\u001b[43m,\u001b[49m\u001b[43m \u001b[49m\u001b[43murl\u001b[49m\u001b[43m \u001b[49m\u001b[38;5;241;43m+\u001b[39;49m\u001b[43m \u001b[49m\u001b[43mend_point\u001b[49m\u001b[43m,\u001b[49m\u001b[43m \u001b[49m\u001b[43mheaders\u001b[49m\u001b[43m \u001b[49m\u001b[38;5;241;43m=\u001b[39;49m\u001b[43m \u001b[49m\u001b[43mheaders\u001b[49m\u001b[43m,\u001b[49m\u001b[43m \u001b[49m\u001b[43mdata\u001b[49m\u001b[43m \u001b[49m\u001b[38;5;241;43m=\u001b[39;49m\u001b[43m \u001b[49m\u001b[43mpayload\u001b[49m\u001b[43m,\u001b[49m\u001b[43m \u001b[49m\u001b[43mfiles\u001b[49m\u001b[43m \u001b[49m\u001b[38;5;241;43m=\u001b[39;49m\u001b[43m \u001b[49m\u001b[43mfiles\u001b[49m\u001b[43m)\u001b[49m\n\u001b[0;32m     32\u001b[0m \u001b[38;5;28mprint\u001b[39m(response\u001b[38;5;241m.\u001b[39mtext)\n",
      "File \u001b[1;32m~\\anaconda3\\envs\\dev\\lib\\site-packages\\requests\\api.py:61\u001b[0m, in \u001b[0;36mrequest\u001b[1;34m(method, url, **kwargs)\u001b[0m\n\u001b[0;32m     57\u001b[0m \u001b[38;5;66;03m# By using the 'with' statement we are sure the session is closed, thus we\u001b[39;00m\n\u001b[0;32m     58\u001b[0m \u001b[38;5;66;03m# avoid leaving sockets open which can trigger a ResourceWarning in some\u001b[39;00m\n\u001b[0;32m     59\u001b[0m \u001b[38;5;66;03m# cases, and look like a memory leak in others.\u001b[39;00m\n\u001b[0;32m     60\u001b[0m \u001b[38;5;28;01mwith\u001b[39;00m sessions\u001b[38;5;241m.\u001b[39mSession() \u001b[38;5;28;01mas\u001b[39;00m session:\n\u001b[1;32m---> 61\u001b[0m     \u001b[38;5;28;01mreturn\u001b[39;00m session\u001b[38;5;241m.\u001b[39mrequest(method\u001b[38;5;241m=\u001b[39mmethod, url\u001b[38;5;241m=\u001b[39murl, \u001b[38;5;241m*\u001b[39m\u001b[38;5;241m*\u001b[39mkwargs)\n",
      "File \u001b[1;32m~\\anaconda3\\envs\\dev\\lib\\site-packages\\requests\\sessions.py:515\u001b[0m, in \u001b[0;36mSession.request\u001b[1;34m(self, method, url, params, data, headers, cookies, files, auth, timeout, allow_redirects, proxies, hooks, stream, verify, cert, json)\u001b[0m\n\u001b[0;32m    502\u001b[0m \u001b[38;5;66;03m# Create the Request.\u001b[39;00m\n\u001b[0;32m    503\u001b[0m req \u001b[38;5;241m=\u001b[39m Request(\n\u001b[0;32m    504\u001b[0m     method\u001b[38;5;241m=\u001b[39mmethod\u001b[38;5;241m.\u001b[39mupper(),\n\u001b[0;32m    505\u001b[0m     url\u001b[38;5;241m=\u001b[39murl,\n\u001b[1;32m   (...)\u001b[0m\n\u001b[0;32m    513\u001b[0m     hooks\u001b[38;5;241m=\u001b[39mhooks,\n\u001b[0;32m    514\u001b[0m )\n\u001b[1;32m--> 515\u001b[0m prep \u001b[38;5;241m=\u001b[39m \u001b[38;5;28;43mself\u001b[39;49m\u001b[38;5;241;43m.\u001b[39;49m\u001b[43mprepare_request\u001b[49m\u001b[43m(\u001b[49m\u001b[43mreq\u001b[49m\u001b[43m)\u001b[49m\n\u001b[0;32m    517\u001b[0m proxies \u001b[38;5;241m=\u001b[39m proxies \u001b[38;5;129;01mor\u001b[39;00m {}\n\u001b[0;32m    519\u001b[0m settings \u001b[38;5;241m=\u001b[39m \u001b[38;5;28mself\u001b[39m\u001b[38;5;241m.\u001b[39mmerge_environment_settings(\n\u001b[0;32m    520\u001b[0m     prep\u001b[38;5;241m.\u001b[39murl, proxies, stream, verify, cert\n\u001b[0;32m    521\u001b[0m )\n",
      "File \u001b[1;32m~\\anaconda3\\envs\\dev\\lib\\site-packages\\requests\\sessions.py:443\u001b[0m, in \u001b[0;36mSession.prepare_request\u001b[1;34m(self, request)\u001b[0m\n\u001b[0;32m    440\u001b[0m     auth \u001b[38;5;241m=\u001b[39m get_netrc_auth(request\u001b[38;5;241m.\u001b[39murl)\n\u001b[0;32m    442\u001b[0m p \u001b[38;5;241m=\u001b[39m PreparedRequest()\n\u001b[1;32m--> 443\u001b[0m \u001b[43mp\u001b[49m\u001b[38;5;241;43m.\u001b[39;49m\u001b[43mprepare\u001b[49m\u001b[43m(\u001b[49m\n\u001b[0;32m    444\u001b[0m \u001b[43m    \u001b[49m\u001b[43mmethod\u001b[49m\u001b[38;5;241;43m=\u001b[39;49m\u001b[43mrequest\u001b[49m\u001b[38;5;241;43m.\u001b[39;49m\u001b[43mmethod\u001b[49m\u001b[38;5;241;43m.\u001b[39;49m\u001b[43mupper\u001b[49m\u001b[43m(\u001b[49m\u001b[43m)\u001b[49m\u001b[43m,\u001b[49m\n\u001b[0;32m    445\u001b[0m \u001b[43m    \u001b[49m\u001b[43murl\u001b[49m\u001b[38;5;241;43m=\u001b[39;49m\u001b[43mrequest\u001b[49m\u001b[38;5;241;43m.\u001b[39;49m\u001b[43murl\u001b[49m\u001b[43m,\u001b[49m\n\u001b[0;32m    446\u001b[0m \u001b[43m    \u001b[49m\u001b[43mfiles\u001b[49m\u001b[38;5;241;43m=\u001b[39;49m\u001b[43mrequest\u001b[49m\u001b[38;5;241;43m.\u001b[39;49m\u001b[43mfiles\u001b[49m\u001b[43m,\u001b[49m\n\u001b[0;32m    447\u001b[0m \u001b[43m    \u001b[49m\u001b[43mdata\u001b[49m\u001b[38;5;241;43m=\u001b[39;49m\u001b[43mrequest\u001b[49m\u001b[38;5;241;43m.\u001b[39;49m\u001b[43mdata\u001b[49m\u001b[43m,\u001b[49m\n\u001b[0;32m    448\u001b[0m \u001b[43m    \u001b[49m\u001b[43mjson\u001b[49m\u001b[38;5;241;43m=\u001b[39;49m\u001b[43mrequest\u001b[49m\u001b[38;5;241;43m.\u001b[39;49m\u001b[43mjson\u001b[49m\u001b[43m,\u001b[49m\n\u001b[0;32m    449\u001b[0m \u001b[43m    \u001b[49m\u001b[43mheaders\u001b[49m\u001b[38;5;241;43m=\u001b[39;49m\u001b[43mmerge_setting\u001b[49m\u001b[43m(\u001b[49m\u001b[43mrequest\u001b[49m\u001b[38;5;241;43m.\u001b[39;49m\u001b[43mheaders\u001b[49m\u001b[43m,\u001b[49m\u001b[43m \u001b[49m\u001b[38;5;28;43mself\u001b[39;49m\u001b[38;5;241;43m.\u001b[39;49m\u001b[43mheaders\u001b[49m\u001b[43m,\u001b[49m\u001b[43m \u001b[49m\u001b[43mdict_class\u001b[49m\u001b[38;5;241;43m=\u001b[39;49m\u001b[43mCaseInsensitiveDict\u001b[49m\u001b[43m)\u001b[49m\u001b[43m,\u001b[49m\n\u001b[0;32m    450\u001b[0m \u001b[43m    \u001b[49m\u001b[43mparams\u001b[49m\u001b[38;5;241;43m=\u001b[39;49m\u001b[43mmerge_setting\u001b[49m\u001b[43m(\u001b[49m\u001b[43mrequest\u001b[49m\u001b[38;5;241;43m.\u001b[39;49m\u001b[43mparams\u001b[49m\u001b[43m,\u001b[49m\u001b[43m \u001b[49m\u001b[38;5;28;43mself\u001b[39;49m\u001b[38;5;241;43m.\u001b[39;49m\u001b[43mparams\u001b[49m\u001b[43m)\u001b[49m\u001b[43m,\u001b[49m\n\u001b[0;32m    451\u001b[0m \u001b[43m    \u001b[49m\u001b[43mauth\u001b[49m\u001b[38;5;241;43m=\u001b[39;49m\u001b[43mmerge_setting\u001b[49m\u001b[43m(\u001b[49m\u001b[43mauth\u001b[49m\u001b[43m,\u001b[49m\u001b[43m \u001b[49m\u001b[38;5;28;43mself\u001b[39;49m\u001b[38;5;241;43m.\u001b[39;49m\u001b[43mauth\u001b[49m\u001b[43m)\u001b[49m\u001b[43m,\u001b[49m\n\u001b[0;32m    452\u001b[0m \u001b[43m    \u001b[49m\u001b[43mcookies\u001b[49m\u001b[38;5;241;43m=\u001b[39;49m\u001b[43mmerged_cookies\u001b[49m\u001b[43m,\u001b[49m\n\u001b[0;32m    453\u001b[0m \u001b[43m    \u001b[49m\u001b[43mhooks\u001b[49m\u001b[38;5;241;43m=\u001b[39;49m\u001b[43mmerge_hooks\u001b[49m\u001b[43m(\u001b[49m\u001b[43mrequest\u001b[49m\u001b[38;5;241;43m.\u001b[39;49m\u001b[43mhooks\u001b[49m\u001b[43m,\u001b[49m\u001b[43m \u001b[49m\u001b[38;5;28;43mself\u001b[39;49m\u001b[38;5;241;43m.\u001b[39;49m\u001b[43mhooks\u001b[49m\u001b[43m)\u001b[49m\u001b[43m,\u001b[49m\n\u001b[0;32m    454\u001b[0m \u001b[43m\u001b[49m\u001b[43m)\u001b[49m\n\u001b[0;32m    455\u001b[0m \u001b[38;5;28;01mreturn\u001b[39;00m p\n",
      "File \u001b[1;32m~\\anaconda3\\envs\\dev\\lib\\site-packages\\requests\\models.py:321\u001b[0m, in \u001b[0;36mPreparedRequest.prepare\u001b[1;34m(self, method, url, headers, files, data, params, auth, cookies, hooks, json)\u001b[0m\n\u001b[0;32m    319\u001b[0m \u001b[38;5;28mself\u001b[39m\u001b[38;5;241m.\u001b[39mprepare_headers(headers)\n\u001b[0;32m    320\u001b[0m \u001b[38;5;28mself\u001b[39m\u001b[38;5;241m.\u001b[39mprepare_cookies(cookies)\n\u001b[1;32m--> 321\u001b[0m \u001b[38;5;28;43mself\u001b[39;49m\u001b[38;5;241;43m.\u001b[39;49m\u001b[43mprepare_body\u001b[49m\u001b[43m(\u001b[49m\u001b[43mdata\u001b[49m\u001b[43m,\u001b[49m\u001b[43m \u001b[49m\u001b[43mfiles\u001b[49m\u001b[43m,\u001b[49m\u001b[43m \u001b[49m\u001b[43mjson\u001b[49m\u001b[43m)\u001b[49m\n\u001b[0;32m    322\u001b[0m \u001b[38;5;28mself\u001b[39m\u001b[38;5;241m.\u001b[39mprepare_auth(auth, url)\n\u001b[0;32m    324\u001b[0m \u001b[38;5;66;03m# Note that prepare_auth must be last to enable authentication schemes\u001b[39;00m\n\u001b[0;32m    325\u001b[0m \u001b[38;5;66;03m# such as OAuth to work on a fully prepared request.\u001b[39;00m\n\u001b[0;32m    326\u001b[0m \n\u001b[0;32m    327\u001b[0m \u001b[38;5;66;03m# This MUST go after prepare_auth. Authenticators could add a hook\u001b[39;00m\n",
      "File \u001b[1;32m~\\anaconda3\\envs\\dev\\lib\\site-packages\\requests\\models.py:514\u001b[0m, in \u001b[0;36mPreparedRequest.prepare_body\u001b[1;34m(self, data, files, json)\u001b[0m\n\u001b[0;32m    511\u001b[0m \u001b[38;5;28;01melse\u001b[39;00m:\n\u001b[0;32m    512\u001b[0m     \u001b[38;5;66;03m# Multi-part file uploads.\u001b[39;00m\n\u001b[0;32m    513\u001b[0m     \u001b[38;5;28;01mif\u001b[39;00m files:\n\u001b[1;32m--> 514\u001b[0m         (body, content_type) \u001b[38;5;241m=\u001b[39m \u001b[38;5;28;43mself\u001b[39;49m\u001b[38;5;241;43m.\u001b[39;49m\u001b[43m_encode_files\u001b[49m\u001b[43m(\u001b[49m\u001b[43mfiles\u001b[49m\u001b[43m,\u001b[49m\u001b[43m \u001b[49m\u001b[43mdata\u001b[49m\u001b[43m)\u001b[49m\n\u001b[0;32m    515\u001b[0m     \u001b[38;5;28;01melse\u001b[39;00m:\n\u001b[0;32m    516\u001b[0m         \u001b[38;5;28;01mif\u001b[39;00m data:\n",
      "File \u001b[1;32m~\\anaconda3\\envs\\dev\\lib\\site-packages\\requests\\models.py:124\u001b[0m, in \u001b[0;36mRequestEncodingMixin._encode_files\u001b[1;34m(files, data)\u001b[0m\n\u001b[0;32m    122\u001b[0m     \u001b[38;5;28;01mraise\u001b[39;00m \u001b[38;5;167;01mValueError\u001b[39;00m(\u001b[38;5;124m\"\u001b[39m\u001b[38;5;124mFiles must be provided.\u001b[39m\u001b[38;5;124m\"\u001b[39m)\n\u001b[0;32m    123\u001b[0m \u001b[38;5;28;01melif\u001b[39;00m \u001b[38;5;28misinstance\u001b[39m(data, basestring):\n\u001b[1;32m--> 124\u001b[0m     \u001b[38;5;28;01mraise\u001b[39;00m \u001b[38;5;167;01mValueError\u001b[39;00m(\u001b[38;5;124m\"\u001b[39m\u001b[38;5;124mData must not be a string.\u001b[39m\u001b[38;5;124m\"\u001b[39m)\n\u001b[0;32m    126\u001b[0m new_fields \u001b[38;5;241m=\u001b[39m []\n\u001b[0;32m    127\u001b[0m fields \u001b[38;5;241m=\u001b[39m to_key_val_list(data \u001b[38;5;129;01mor\u001b[39;00m {})\n",
      "\u001b[1;31mValueError\u001b[0m: Data must not be a string."
     ]
    }
   ],
   "source": [
    "import json\n",
    "\n",
    "end_point = \"pinning/pinJSONToIPFS\"\n",
    "\n",
    "payload = json.dumps({\n",
    "  \"pinataOptions\": {\n",
    "    \"cidVersion\": 1\n",
    "  },\n",
    "  \"pinataMetadata\": {\n",
    "    \"name\": \"testing_medical_record\",\n",
    "    \"keyvalues\": {\n",
    "        \"pation_name\": \"santiago pesantez\",\n",
    "        \"date_of_birth\": \"1985-09-16\",\n",
    "        \"gender\": \"male\",\n",
    "        \"weight\": \"140lbs\",\n",
    "        \"height\": \"5ft 6in\"\n",
    "    }\n",
    "  },\n",
    "  \"pinataContent\": {\n",
    "    \"somekey\": \"somevalue\"\n",
    "  }\n",
    "})\n",
    "\n",
    "headers = {\n",
    "  'Content-Type': 'application/json',\n",
    "  'Authorization': 'Bearer ' + PINATA_JWT\n",
    "}\n",
    "\n",
    "response = requests.request(\"POST\", url + end_point, headers = headers, data = payload)\n",
    "\n",
    "print(response.text)\n",
    "\n",
    "## IpfsHash: bafkreicjmxc2drbgxtoidx6xfatbffyx46oiyo6ktipss6dhdermwtsoze\n"
   ]
  },
  {
   "cell_type": "markdown",
   "id": "aa0a7722-31e5-4634-b28b-b9694e617a9a",
   "metadata": {},
   "source": [
    "## Update Metadata from JSON"
   ]
  },
  {
   "cell_type": "code",
   "execution_count": null,
   "id": "342546e6-a38e-4e4a-b211-abd69a5149f0",
   "metadata": {},
   "outputs": [
    {
     "name": "stdout",
     "output_type": "stream",
     "text": [
      "OK\n"
     ]
    }
   ],
   "source": [
    "import json\n",
    "\n",
    "end_point = 'pinning/hashMetadata'\n",
    "CID = 'bafkreicjmxc2drbgxtoidx6xfatbffyx46oiyo6ktipss6dhdermwtsoze'\n",
    "\n",
    "payload = json.dumps({\n",
    "  \"ipfsPinHash\": CID,\n",
    "  \"name\": \"Name\",\n",
    "  \"keyvalues\": {\n",
    "    \"weight\": \"150lbs\"\n",
    "  }\n",
    "})\n",
    "headers = {\n",
    "  'Authorization': 'Bearer ' + PINATA_JWT,\n",
    "  'Content-Type': 'application/json'\n",
    "}\n",
    "\n",
    "response = requests.request(\"PUT\", url + end_point, headers = headers, data = payload)\n",
    "\n",
    "print(response.text)\n"
   ]
  },
  {
   "cell_type": "code",
   "execution_count": null,
   "id": "588c3f1d-124b-49b0-a3fc-ef737eac9b31",
   "metadata": {},
   "outputs": [],
   "source": []
  }
 ],
 "metadata": {
  "kernelspec": {
   "display_name": "Python 3 (ipykernel)",
   "language": "python",
   "name": "python3"
  },
  "language_info": {
   "codemirror_mode": {
    "name": "ipython",
    "version": 3
   },
   "file_extension": ".py",
   "mimetype": "text/x-python",
   "name": "python",
   "nbconvert_exporter": "python",
   "pygments_lexer": "ipython3",
   "version": "3.9.12"
  }
 },
 "nbformat": 4,
 "nbformat_minor": 5
}
