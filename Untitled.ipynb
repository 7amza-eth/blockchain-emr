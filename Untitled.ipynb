{
 "cells": [
  {
   "cell_type": "markdown",
   "id": "890b11c1-c62f-48cb-986b-64851aa981af",
   "metadata": {},
   "source": [
    "# Pinata API"
   ]
  },
  {
   "cell_type": "markdown",
   "id": "440927a1-718f-49ab-96a1-81fb94e17e19",
   "metadata": {},
   "source": [
    "## Configure API"
   ]
  },
  {
   "cell_type": "code",
   "execution_count": 11,
   "id": "875e27a4-5aef-41bc-b5f1-c48f655a57d0",
   "metadata": {},
   "outputs": [],
   "source": [
    "import requests\n",
    "\n",
    "PINATA_JWT = 'eyJhbGciOiJIUzI1NiIsInR5cCI6IkpXVCJ9.eyJ1c2VySW5mb3JtYXRpb24iOnsiaWQiOiJhZTBkZGQ0Zi05MTE1LTQyMmQtYTlmYS1lMmE1ZTA0YzYwYTYiLCJlbWFpbCI6InBlc2FudGV6LnNhbnRpYWdvLmlAZ21haWwuY29tIiwiZW1haWxfdmVyaWZpZWQiOnRydWUsInBpbl9wb2xpY3kiOnsicmVnaW9ucyI6W3siaWQiOiJGUkExIiwiZGVzaXJlZFJlcGxpY2F0aW9uQ291bnQiOjF9LHsiaWQiOiJOWUMxIiwiZGVzaXJlZFJlcGxpY2F0aW9uQ291bnQiOjF9XSwidmVyc2lvbiI6MX0sIm1mYV9lbmFibGVkIjpmYWxzZSwic3RhdHVzIjoiQUNUSVZFIn0sImF1dGhlbnRpY2F0aW9uVHlwZSI6InNjb3BlZEtleSIsInNjb3BlZEtleUtleSI6IjJjODA4MDdjOGIwNDg4NDhhMzU0Iiwic2NvcGVkS2V5U2VjcmV0IjoiMmU1YmYyNmE1N2YxNTI3YmYzZDVhMTllNTZmNGQ0MjIzMjFiZmRlYmYyOTA1ODc1YjYyOTNiMDg2NjVkOTFmOSIsImlhdCI6MTY2MzIwMTcyNn0.j8wenqclDhQSN-nNkUyEwb7HWF6E6BjbiEqRpxm3W_I'\n",
    "\n",
    "url = \"https://api.pinata.cloud/\"\n",
    "\n",
    "headers = { 'Authorization': 'Bearer ' + PINATA_JWT}\n"
   ]
  },
  {
   "cell_type": "markdown",
   "id": "9b54bcef-e9ff-4bee-bbbe-9ded59bd3596",
   "metadata": {},
   "source": [
    "## Test Connection"
   ]
  },
  {
   "cell_type": "code",
   "execution_count": 10,
   "id": "a2f08070-3a9a-4f7f-8b06-ff9190c60fa6",
   "metadata": {},
   "outputs": [
    {
     "name": "stdout",
     "output_type": "stream",
     "text": [
      "{\"message\":\"Congratulations! You are communicating with the Pinata API!\"}\n"
     ]
    }
   ],
   "source": [
    "end_point = 'data/testAuthentication'\n",
    "\n",
    "payload = {} \n",
    "\n",
    "\n",
    "response = requests.request(\"GET\", url + end_point, headers = headers, data = payload)\n",
    "\n",
    "print(response.text)"
   ]
  },
  {
   "cell_type": "markdown",
   "id": "605ab871-2fa3-4473-a833-321e360e918f",
   "metadata": {},
   "source": [
    "## List files"
   ]
  },
  {
   "cell_type": "code",
   "execution_count": 25,
   "id": "46b88ed2-1ff9-4831-837f-4f512c4d81ce",
   "metadata": {},
   "outputs": [
    {
     "name": "stdout",
     "output_type": "stream",
     "text": [
      "{\"count\":1,\"rows\":[{\"id\":\"51e9849d-638b-4527-bb70-d4278495413a\",\"ipfs_pin_hash\":\"QmWeDLS9dNv7efDTL6XFMTcW2DkBQoHjqZMjCzEGqPgtYY\",\"size\":345725,\"user_id\":\"ae0ddd4f-9115-422d-a9fa-e2a5e04c60a6\",\"date_pinned\":\"2022-09-15T00:30:24.006Z\",\"date_unpinned\":null,\"metadata\":{\"name\":\"1.gif\",\"keyvalues\":null},\"regions\":[{\"regionId\":\"FRA1\",\"currentReplicationCount\":1,\"desiredReplicationCount\":1},{\"regionId\":\"NYC1\",\"currentReplicationCount\":1,\"desiredReplicationCount\":1}]}]}\n"
     ]
    }
   ],
   "source": [
    "end_point = 'data/pinList'\n",
    "\n",
    "payload={}\n",
    "\n",
    "response = requests.request('GET', url + end_point, headers = headers, data = payload)\n",
    "\n",
    "print(response.text)"
   ]
  },
  {
   "cell_type": "markdown",
   "id": "dfef66e7-d30e-43e6-b50c-dbcfe7cc13fa",
   "metadata": {},
   "source": [
    "## Upload File"
   ]
  },
  {
   "cell_type": "code",
   "execution_count": 28,
   "id": "fae0253b-ae23-428c-8118-cfcc2ad4d8d5",
   "metadata": {},
   "outputs": [
    {
     "name": "stdout",
     "output_type": "stream",
     "text": [
      "{\"IpfsHash\":\"bafkreigaknpexyvxt76zgkitavbwx6ejgfheup5oybpm77f3pxzrvwpfdi\",\"PinSize\":12,\"Timestamp\":\"2022-09-15T04:33:36.210Z\"}\n"
     ]
    }
   ],
   "source": [
    "end_point = 'pinning/pinFileToIPFS'\n",
    "\n",
    "payload={'pinataOptions': '{\"cidVersion\": 1}',\n",
    "'pinataMetadata': '{\"name\": \"TestFile\", \"keyvalues\": {\"company\": \"EMRB\"}}'}\n",
    "\n",
    "files=[\n",
    "  ('file',('test_file.txt',open('test_file.txt','rb'),'application/octet-stream'))\n",
    "]\n",
    "\n",
    "response = requests.request(\"POST\", url + end_point, headers=headers, data=payload, files=files)\n",
    "\n",
    "print(response.text)"
   ]
  },
  {
   "cell_type": "markdown",
   "id": "bbcb8560-9eb6-4194-bdf0-94f13f4d94e0",
   "metadata": {},
   "source": [
    "## Upload Json"
   ]
  },
  {
   "cell_type": "code",
   "execution_count": 30,
   "id": "20ed5923-5420-4e4f-8fdd-9a706c290656",
   "metadata": {},
   "outputs": [
    {
     "name": "stdout",
     "output_type": "stream",
     "text": [
      "{\"IpfsHash\":\"bafkreicjmxc2drbgxtoidx6xfatbffyx46oiyo6ktipss6dhdermwtsoze\",\"PinSize\":23,\"Timestamp\":\"2022-09-15T04:35:47.847Z\"}\n"
     ]
    }
   ],
   "source": [
    "import json\n",
    "\n",
    "end_point = \"pinning/pinJSONToIPFS\"\n",
    "\n",
    "payload = json.dumps({\n",
    "  \"pinataOptions\": {\n",
    "    \"cidVersion\": 1\n",
    "  },\n",
    "  \"pinataMetadata\": {\n",
    "    \"name\": \"testing_medical_record\",\n",
    "    \"keyvalues\": {\n",
    "        \"pation_name\": \"santiago pesantez\",\n",
    "        \"date_of_birth\": \"1985-09-16\",\n",
    "        \"gender\": \"male\",\n",
    "        \"weight\": \"140lbs\",\n",
    "        \"height\": \"5ft 6in\"\n",
    "    }\n",
    "  },\n",
    "  \"pinataContent\": {\n",
    "    \"somekey\": \"somevalue\"\n",
    "  }\n",
    "})\n",
    "\n",
    "headers = {\n",
    "  'Content-Type': 'application/json',\n",
    "  'Authorization': 'Bearer ' + PINATA_JWT\n",
    "}\n",
    "\n",
    "response = requests.request(\"POST\", url + end_point, headers = headers, data = payload)\n",
    "\n",
    "print(response.text)\n",
    "\n",
    "## IpfsHash: bafkreicjmxc2drbgxtoidx6xfatbffyx46oiyo6ktipss6dhdermwtsoze\n"
   ]
  },
  {
   "cell_type": "markdown",
   "id": "aa0a7722-31e5-4634-b28b-b9694e617a9a",
   "metadata": {},
   "source": [
    "## Update Metadata from JSON"
   ]
  },
  {
   "cell_type": "code",
   "execution_count": 33,
   "id": "342546e6-a38e-4e4a-b211-abd69a5149f0",
   "metadata": {},
   "outputs": [
    {
     "name": "stdout",
     "output_type": "stream",
     "text": [
      "OK\n"
     ]
    }
   ],
   "source": [
    "import json\n",
    "\n",
    "end_point = 'pinning/hashMetadata'\n",
    "CID = 'bafkreicjmxc2drbgxtoidx6xfatbffyx46oiyo6ktipss6dhdermwtsoze'\n",
    "\n",
    "payload = json.dumps({\n",
    "  \"ipfsPinHash\": CID,\n",
    "  \"name\": \"Name\",\n",
    "  \"keyvalues\": {\n",
    "    \"weight\": \"150lbs\"\n",
    "  }\n",
    "})\n",
    "headers = {\n",
    "  'Authorization': 'Bearer ' + PINATA_JWT,\n",
    "  'Content-Type': 'application/json'\n",
    "}\n",
    "\n",
    "response = requests.request(\"PUT\", url + end_point, headers = headers, data = payload)\n",
    "\n",
    "print(response.text)\n"
   ]
  },
  {
   "cell_type": "code",
   "execution_count": null,
   "id": "588c3f1d-124b-49b0-a3fc-ef737eac9b31",
   "metadata": {},
   "outputs": [],
   "source": []
  }
 ],
 "metadata": {
  "kernelspec": {
   "display_name": "Python 3 (ipykernel)",
   "language": "python",
   "name": "python3"
  },
  "language_info": {
   "codemirror_mode": {
    "name": "ipython",
    "version": 3
   },
   "file_extension": ".py",
   "mimetype": "text/x-python",
   "name": "python",
   "nbconvert_exporter": "python",
   "pygments_lexer": "ipython3",
   "version": "3.9.12"
  }
 },
 "nbformat": 4,
 "nbformat_minor": 5
}
